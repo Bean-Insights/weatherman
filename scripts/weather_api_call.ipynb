{
  "cells": [
    {
      "cell_type": "code",
      "execution_count": 14,
      "metadata": {
        "id": "polish-disclaimer"
      },
      "outputs": [],
      "source": [
        "import pandas as pd\n",
        "import requests\n",
        "import json\n",
        "from datetime import datetime\n",
        "import pytz\n",
        "import schedule"
      ]
    },
    {
      "cell_type": "code",
      "execution_count": 15,
      "metadata": {},
      "outputs": [],
      "source": [
        "\n",
        "data_path=\"../../weatherman/\""
      ]
    },
    {
      "cell_type": "code",
      "execution_count": 16,
      "metadata": {},
      "outputs": [
        {
          "name": "stdout",
          "output_type": "stream",
          "text": [
            "[1645615499, 1645529099, 1645442699, 1645356299, 1645269899, 1645183499]\n"
          ]
        }
      ],
      "source": [
        "def create_6days_list(no_of_days=6):\n",
        "    \"\"\"\n",
        "    Create a list of timestamps with the first being the immediate timestamp and the other 5 for the 5 days in the future.\n",
        "\n",
        "    Keyword arguments:\n",
        "    no_of_days -- the total number of days you want timestamps for (default 6)\n",
        "    \"\"\"\n",
        "    a_day=86400\n",
        "    day0 = datetime.strftime(datetime.utcnow(), \"%s\")\n",
        "    past_6_days=[]\n",
        "\n",
        "    for i in range(no_of_days):\n",
        "        one_day=int(day0) - int(a_day*i)\n",
        "        past_6_days.append(one_day)\n",
        "    return(past_6_days)\n",
        "\n",
        "past_6_days_list=create_6days_list(6)\n",
        "print(past_6_days_list)"
      ]
    },
    {
      "cell_type": "code",
      "execution_count": 17,
      "metadata": {},
      "outputs": [
        {
          "ename": "NameError",
          "evalue": "name 'np' is not defined",
          "output_type": "error",
          "traceback": [
            "\u001b[0;31m---------------------------------------------------------------------------\u001b[0m",
            "\u001b[0;31mNameError\u001b[0m                                 Traceback (most recent call last)",
            "\u001b[0;32m/var/folders/x3/qvtshfg96yj02zcygzy_26dc0000gq/T/ipykernel_34149/2145541895.py\u001b[0m in \u001b[0;36m<module>\u001b[0;34m\u001b[0m\n\u001b[0;32m----> 1\u001b[0;31m \u001b[0minfer_dst\u001b[0m \u001b[0;34m=\u001b[0m \u001b[0mnp\u001b[0m\u001b[0;34m.\u001b[0m\u001b[0marray\u001b[0m\u001b[0;34m(\u001b[0m\u001b[0;34m[\u001b[0m\u001b[0;32mFalse\u001b[0m\u001b[0;34m]\u001b[0m \u001b[0;34m*\u001b[0m \u001b[0mdf\u001b[0m\u001b[0;34m.\u001b[0m\u001b[0mshape\u001b[0m\u001b[0;34m[\u001b[0m\u001b[0;36m0\u001b[0m\u001b[0;34m]\u001b[0m\u001b[0;34m)\u001b[0m  \u001b[0;31m# all False -> every row considered DT, alternative is True to indicate DST. The array must correspond to the iloc of df.index\u001b[0m\u001b[0;34m\u001b[0m\u001b[0;34m\u001b[0m\u001b[0m\n\u001b[0m\u001b[1;32m      2\u001b[0m \u001b[0mdf\u001b[0m\u001b[0;34m.\u001b[0m\u001b[0mindex\u001b[0m\u001b[0;34m.\u001b[0m\u001b[0mtz_localize\u001b[0m\u001b[0;34m(\u001b[0m\u001b[0;34m'Europe/Amsterdam'\u001b[0m\u001b[0;34m,\u001b[0m \u001b[0mambiguous\u001b[0m\u001b[0;34m=\u001b[0m\u001b[0minfer_dst\u001b[0m\u001b[0;34m)\u001b[0m  \u001b[0;31m# no error\u001b[0m\u001b[0;34m\u001b[0m\u001b[0;34m\u001b[0m\u001b[0m\n",
            "\u001b[0;31mNameError\u001b[0m: name 'np' is not defined"
          ]
        }
      ],
      "source": [
        "# infer_dst = np.array([False] * df.shape[0])  # all False -> every row considered DT, alternative is True to indicate DST. The array must correspond to the iloc of df.index\n",
        "# df.index.tz_localize('Europe/Amsterdam', ambiguous=infer_dst)  # no error"
      ]
    },
    {
      "cell_type": "code",
      "execution_count": 23,
      "metadata": {},
      "outputs": [
        {
          "data": {
            "text/html": [
              "<div>\n",
              "<style scoped>\n",
              "    .dataframe tbody tr th:only-of-type {\n",
              "        vertical-align: middle;\n",
              "    }\n",
              "\n",
              "    .dataframe tbody tr th {\n",
              "        vertical-align: top;\n",
              "    }\n",
              "\n",
              "    .dataframe thead th {\n",
              "        text-align: right;\n",
              "    }\n",
              "</style>\n",
              "<table border=\"1\" class=\"dataframe\">\n",
              "  <thead>\n",
              "    <tr style=\"text-align: right;\">\n",
              "      <th></th>\n",
              "      <th>dt</th>\n",
              "      <th>temp</th>\n",
              "    </tr>\n",
              "  </thead>\n",
              "  <tbody>\n",
              "    <tr>\n",
              "      <th>0</th>\n",
              "      <td>2022-02-23 00:00:00+00:00</td>\n",
              "      <td>5.86</td>\n",
              "    </tr>\n",
              "    <tr>\n",
              "      <th>1</th>\n",
              "      <td>2022-02-23 01:00:00+00:00</td>\n",
              "      <td>5.03</td>\n",
              "    </tr>\n",
              "    <tr>\n",
              "      <th>2</th>\n",
              "      <td>2022-02-23 02:00:00+00:00</td>\n",
              "      <td>4.49</td>\n",
              "    </tr>\n",
              "    <tr>\n",
              "      <th>3</th>\n",
              "      <td>2022-02-23 03:00:00+00:00</td>\n",
              "      <td>4.31</td>\n",
              "    </tr>\n",
              "    <tr>\n",
              "      <th>4</th>\n",
              "      <td>2022-02-23 04:00:00+00:00</td>\n",
              "      <td>4.84</td>\n",
              "    </tr>\n",
              "    <tr>\n",
              "      <th>...</th>\n",
              "      <td>...</td>\n",
              "      <td>...</td>\n",
              "    </tr>\n",
              "    <tr>\n",
              "      <th>128</th>\n",
              "      <td>2022-02-18 19:00:00+00:00</td>\n",
              "      <td>8.92</td>\n",
              "    </tr>\n",
              "    <tr>\n",
              "      <th>129</th>\n",
              "      <td>2022-02-18 20:00:00+00:00</td>\n",
              "      <td>8.39</td>\n",
              "    </tr>\n",
              "    <tr>\n",
              "      <th>130</th>\n",
              "      <td>2022-02-18 21:00:00+00:00</td>\n",
              "      <td>7.47</td>\n",
              "    </tr>\n",
              "    <tr>\n",
              "      <th>131</th>\n",
              "      <td>2022-02-18 22:00:00+00:00</td>\n",
              "      <td>6.91</td>\n",
              "    </tr>\n",
              "    <tr>\n",
              "      <th>132</th>\n",
              "      <td>2022-02-18 23:00:00+00:00</td>\n",
              "      <td>6.19</td>\n",
              "    </tr>\n",
              "  </tbody>\n",
              "</table>\n",
              "<p>133 rows × 2 columns</p>\n",
              "</div>"
            ],
            "text/plain": [
              "                           dt  temp\n",
              "0   2022-02-23 00:00:00+00:00  5.86\n",
              "1   2022-02-23 01:00:00+00:00  5.03\n",
              "2   2022-02-23 02:00:00+00:00  4.49\n",
              "3   2022-02-23 03:00:00+00:00  4.31\n",
              "4   2022-02-23 04:00:00+00:00  4.84\n",
              "..                        ...   ...\n",
              "128 2022-02-18 19:00:00+00:00  8.92\n",
              "129 2022-02-18 20:00:00+00:00  8.39\n",
              "130 2022-02-18 21:00:00+00:00  7.47\n",
              "131 2022-02-18 22:00:00+00:00  6.91\n",
              "132 2022-02-18 23:00:00+00:00  6.19\n",
              "\n",
              "[133 rows x 2 columns]"
            ]
          },
          "execution_count": 23,
          "metadata": {},
          "output_type": "execute_result"
        }
      ],
      "source": [
        "def get_historical_weather(\n",
        "    lat=51.17,\n",
        "    lon=10.45,\n",
        "    api_key=\"bc2d732248597a8725c1f5d51e5d3e8a\",\n",
        "    past_6_days=past_6_days_list,\n",
        "):\n",
        "    \"\"\"\n",
        "    Returns a dataframe with dt and temp columns.\n",
        "\n",
        "    Keyword arguments:\n",
        "    lat -- the latitude (default 51.17)\n",
        "    lon -- the longitude (default 10.45)\n",
        "    api_key -- api key gotten from openweathermap (default \"bc2d732248597a8725c1f5d51e5d3e8a\")\n",
        "    past_6_days -- a list of timestamps for the 6 days you want historical data for\n",
        "    \"\"\"\n",
        "    new_df = pd.DataFrame()\n",
        "    past_6_days_df = pd.DataFrame()\n",
        "\n",
        "    for day in past_6_days:\n",
        "        url = (\n",
        "            \"https://api.openweathermap.org/data/2.5/onecall/timemachine?lat=%s&lon=%s&dt=%s&units=metric&appid=%s\" % (lat, lon, day, api_key)\n",
        "        )\n",
        "        response = requests.get(url)\n",
        "        data = json.loads(response.text)\n",
        "        hourly_data = data[\"hourly\"]\n",
        "\n",
        "        for entry in hourly_data:\n",
        "            temp = pd.DataFrame.from_dict(pd.json_normalize(entry), orient=\"columns\")\n",
        "\n",
        "            # select only nec. columns\n",
        "            columns = [\"dt\", \"temp\"]\n",
        "            temp = temp[columns]\n",
        "\n",
        "            # transform dt column\n",
        "            temp[\"dt\"] = datetime.fromtimestamp(entry[\"dt\"], pytz.utc)\n",
        "            new_df = new_df.append(temp, ignore_index=True)\n",
        "\n",
        "        # concatenate each day in a new dataframe\n",
        "        past_6_days_df = pd.concat(\n",
        "            [past_6_days_df, new_df], axis=0, ignore_index=False\n",
        "        ).drop_duplicates()\n",
        "\n",
        "    return(past_6_days_df)\n",
        "\n",
        "get_historical_weather(api_key = \"bc2d732248597a8725c1f5d51e5d3e8a\",lat=51.17,lon=10.45)"
      ]
    },
    {
      "cell_type": "code",
      "execution_count": 5,
      "metadata": {},
      "outputs": [],
      "source": [
        "# # Warning! Running this will overwrite current datasets\n",
        "\n",
        "# germany=get_historical_weather(api_key = \"bc2d732248597a8725c1f5d51e5d3e8a\",lat=51.17,lon=10.45)\n",
        "# germany.set_index(['dt']).to_csv(data_path + \"germany_weather.csv\")\n",
        "\n",
        "# netherlands=get_historical_weather(api_key = \"bc2d732248597a8725c1f5d51e5d3e8a\",lat=52.13,lon=5.29)\n",
        "# netherlands.set_index(['dt']).to_csv(data_path + \"netherlands_weather.csv\")\n",
        "\n",
        "# uk=get_historical_weather(api_key = \"bc2d732248597a8725c1f5d51e5d3e8a\",lat=52.35,lon=-1.17)\n",
        "# uk.set_index(['dt']).to_csv(data_path + \"uk_weather.csv\")"
      ]
    },
    {
      "cell_type": "code",
      "execution_count": 6,
      "metadata": {},
      "outputs": [],
      "source": [
        "# Run this to append new entries\n",
        "\n",
        "germany=get_historical_weather(api_key = \"bc2d732248597a8725c1f5d51e5d3e8a\",lat=51.17,lon=10.45)\n",
        "pd.read_csv(data_path + \"germany_weather.csv\",index_col = False).set_index(['dt'])\\\n",
        "    .append(germany.set_index(['dt'])).drop_duplicates().to_csv(data_path + \"germany_weather.csv\")\n",
        "\n",
        "netherlands=get_historical_weather(api_key = \"bc2d732248597a8725c1f5d51e5d3e8a\",lat=52.13,lon=5.29)\n",
        "pd.read_csv(data_path + \"netherlands_weather.csv\",index_col = False).set_index(['dt'])\\\n",
        "    .append(netherlands.set_index(['dt'])).drop_duplicates().to_csv(data_path + \"netherlands_weather.csv\")\n",
        "\n",
        "uk=get_historical_weather(api_key = \"bc2d732248597a8725c1f5d51e5d3e8a\",lat=52.35,lon=-1.17)\n",
        "pd.read_csv(data_path + \"uk_weather.csv\",index_col = False).set_index(['dt'])\\\n",
        "    .append(uk.set_index(['dt'])).drop_duplicates().to_csv(data_path + \"uk_weather.csv\")"
      ]
    },
    {
      "cell_type": "code",
      "execution_count": null,
      "metadata": {},
      "outputs": [],
      "source": [
        "\n",
        "# new_df=pd.DataFrame()\n",
        "# past_6_days_df=pd.DataFrame()\n",
        "\n",
        "# for day in past_6_days:\n",
        "#     url=\"https://api.openweathermap.org/data/2.5/onecall/timemachine?lat=%s&lon=%s&dt=%s&units=metric&appid=%s\" % (lat, lon, day, api_key)\n",
        "#     response = requests.get(url)\n",
        "#     data = json.loads(response.text)\n",
        "#     hourly = data[\"hourly\"]\n",
        "\n",
        "#     for entry in hourly:\n",
        "#         # temp = pd.DataFrame(entry)\n",
        "#         temp=pd.DataFrame.from_dict(pd.json_normalize(entry), orient='columns')\n",
        "\n",
        "#         # select only nec. columns\n",
        "#         columns=['dt','temp']\n",
        "#         temp=temp[columns]\n",
        "\n",
        "#         # transform dt column\n",
        "#         temp['dt']=datetime.fromtimestamp(entry[\"dt\"], pytz.timezone(data['timezone']))\n",
        "#         new_df=new_df.append(temp,ignore_index=True)\n",
        "\n",
        "#     # print(new_df)\n",
        "\n",
        "#     # concatenate each day in a new dataframe   \n",
        "#     past_6_days_df=pd.concat([past_6_days_df,new_df],axis=0, ignore_index=False).drop_duplicates()\n",
        "\n",
        "# print(past_6_days_df)"
      ]
    },
    {
      "cell_type": "code",
      "execution_count": null,
      "metadata": {},
      "outputs": [],
      "source": [
        "# new_df=pd.DataFrame()\n",
        "# daily = data[\"daily\"]\n",
        "# for entry in daily:\n",
        "#     dt = datetime.fromtimestamp(entry[\"dt\"], pytz.timezone(data['timezone']))\n",
        "#     temp = entry[\"temp\"]\n",
        "#     temp['dt']=dt\n",
        "#     new_df=new_df.append(temp,ignore_index=True)\n",
        "# new_df['timezone']=data['timezone']\n",
        "# new_df"
      ]
    },
    {
      "cell_type": "markdown",
      "metadata": {},
      "source": [
        "# this works for forecast"
      ]
    },
    {
      "cell_type": "code",
      "execution_count": null,
      "metadata": {},
      "outputs": [],
      "source": [
        "# def get_weather_forecast(lat,lon,api_key):\n",
        "    \n",
        "#     new_df=pd.DataFrame()\n",
        "#     url=\"https://api.openweathermap.org/data/2.5/onecall?lat=%s&lon=%s&exclude=current,minutely,hourly,alerts&units=metric&appid=%s\" % (lat, lon, api_key)\n",
        "#     response = requests.get(url)\n",
        "#     data = json.loads(response.text)\n",
        "    \n",
        "\n",
        "#     daily = data[\"daily\"]\n",
        "#     for entry in daily:\n",
        "#         dt = datetime.fromtimestamp(entry[\"dt\"], pytz.timezone(data['timezone']))\n",
        "#         temp = entry[\"temp\"]\n",
        "#         temp['dt']=dt\n",
        "#         new_df=new_df.append(temp,ignore_index=True)\n",
        "#     new_df['timezone']=data['timezone']\n",
        "#     return(new_df)\n"
      ]
    },
    {
      "cell_type": "code",
      "execution_count": null,
      "metadata": {},
      "outputs": [],
      "source": [
        "# germany=get_weather_forecast(api_key = \"bc2d732248597a8725c1f5d51e5d3e8a\",lat=51.17,lon=10.45)\n",
        "# germany\n",
        "\n",
        "# netherlands=get_weather_forecast(api_key = \"3359ae5263476eb42c0c2bfa08ecc6c3\",lat=52.13,lon=5.29)\n",
        "# netherlands\n",
        "\n",
        "# uk=get_weather_forecast(api_key = \"3359ae5263476eb42c0c2bfa08ecc6c3\",lat=52.35,lon=-1.17)\n",
        "# uk"
      ]
    },
    {
      "cell_type": "code",
      "execution_count": null,
      "metadata": {},
      "outputs": [],
      "source": [
        "# df=pd.DataFrame.from_dict(pd.json_normalize(data), orient='columns')"
      ]
    }
  ],
  "metadata": {
    "colab": {
      "name": "Weather Data Processing.ipynb",
      "provenance": []
    },
    "interpreter": {
      "hash": "980182163be08f56d4f460461fe8115c5bcd239319f58a2a69597ae09eb07e70"
    },
    "kernelspec": {
      "display_name": "Python 3.9.1 64-bit ('crawler-bvvkC66w': pipenv)",
      "name": "python3"
    },
    "language_info": {
      "codemirror_mode": {
        "name": "ipython",
        "version": 3
      },
      "file_extension": ".py",
      "mimetype": "text/x-python",
      "name": "python",
      "nbconvert_exporter": "python",
      "pygments_lexer": "ipython3",
      "version": "3.9.5"
    }
  },
  "nbformat": 4,
  "nbformat_minor": 5
}
